{
 "cells": [
  {
   "cell_type": "code",
   "execution_count": 2,
   "id": "288aaecf-3254-4387-9b3f-5a1ffdd09502",
   "metadata": {},
   "outputs": [],
   "source": [
    ":dep caw = { version = \"*\", features = [\"player\"] }"
   ]
  },
  {
   "cell_type": "code",
   "execution_count": 3,
   "id": "57a6711a-9945-46c6-aff5-5c90865dc334",
   "metadata": {},
   "outputs": [],
   "source": [
    "use caw::prelude::*;"
   ]
  },
  {
   "cell_type": "code",
   "execution_count": 54,
   "id": "a54116f9-bd24-4d73-83bb-4a214bb66011",
   "metadata": {},
   "outputs": [],
   "source": [
    "fn sig() -> Sig<impl SigT<Item = f32>> {\n",
    "    let t = 0.2;\n",
    "    let trig = periodic_trig_s(t).build().trig_to_gate(t / 2.);\n",
    "    let osc = super_saw(60.0).build();\n",
    "    let env = adsr_linear_01(trig).attack_s(t / 4.).release_s(t / 4.).build();\n",
    "    osc\n",
    "        .filter(chorus())\n",
    "        .filter(low_pass::default(10_000. * env).resonance(0.5))\n",
    "        .filter(reverb::default()) * 1.\n",
    "}\n",
    "let player = Player::new().unwrap().into_owned_mono(sig(), Default::default()).unwrap();"
   ]
  },
  {
   "cell_type": "code",
   "execution_count": null,
   "id": "4212114b-f0da-40a2-8630-3b80ede21ae1",
   "metadata": {},
   "outputs": [],
   "source": []
  }
 ],
 "metadata": {
  "kernelspec": {
   "display_name": "Rust",
   "language": "rust",
   "name": "rust"
  },
  "language_info": {
   "codemirror_mode": "rust",
   "file_extension": ".rs",
   "mimetype": "text/rust",
   "name": "Rust",
   "pygment_lexer": "rust",
   "version": ""
  }
 },
 "nbformat": 4,
 "nbformat_minor": 5
}
