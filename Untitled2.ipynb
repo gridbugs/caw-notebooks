{
 "cells": [
  {
   "cell_type": "code",
   "execution_count": 2,
   "id": "73546f36-72ca-4dc1-bb8a-07163111122d",
   "metadata": {},
   "outputs": [],
   "source": [
    ":dep caw = { path = \"/Users/s/src/caw/caw\", features = [\"live\", \"widgets\"] }"
   ]
  },
  {
   "cell_type": "code",
   "execution_count": 3,
   "id": "ce7c2be5-7083-4376-a2e2-39ea21b24baf",
   "metadata": {},
   "outputs": [],
   "source": [
    "use caw::prelude::*;\n",
    "let out = live_stereo();"
   ]
  },
  {
   "cell_type": "code",
   "execution_count": 6,
   "id": "d294efbd-b65d-4b99-8d17-9b815ef4ed70",
   "metadata": {},
   "outputs": [
    {
     "data": {
      "text/plain": [
       "()"
      ]
     },
     "execution_count": 6,
     "metadata": {},
     "output_type": "execute_result"
    },
    {
     "name": "stderr",
     "output_type": "stream",
     "text": [
      "2025-06-09 12:38:51.560 caw_midi_udp_widgets_app[16604:3516720] +[IMKClient subclass]: chose IMKClient_Modern\n",
      "2025-06-09 12:38:51.560 caw_midi_udp_widgets_app[16604:3516720] +[IMKInputSession subclass]: chose IMKInputSession_Modern\n"
     ]
    }
   ],
   "source": [
    "out.set_channel(|channel| {\n",
    "    oscillator(Sine, 20.0 + 100.0 * knob(\"test\").build()).reset_offset_01(channel.circle_phase_offset_01()).build()\n",
    "})"
   ]
  },
  {
   "cell_type": "code",
   "execution_count": 7,
   "id": "f91e6c4c-4879-4bd3-ac7e-b3557c640b94",
   "metadata": {},
   "outputs": [],
   "source": [
    "out.set(|| 0.);"
   ]
  }
 ],
 "metadata": {
  "kernelspec": {
   "display_name": "Rust",
   "language": "rust",
   "name": "rust"
  },
  "language_info": {
   "codemirror_mode": "rust",
   "file_extension": ".rs",
   "mimetype": "text/rust",
   "name": "Rust",
   "pygment_lexer": "rust",
   "version": ""
  }
 },
 "nbformat": 4,
 "nbformat_minor": 5
}
