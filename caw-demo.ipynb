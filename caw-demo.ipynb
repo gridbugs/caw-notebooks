{
 "cells": [
  {
   "cell_type": "code",
   "execution_count": 2,
   "id": "671611e8-a14c-4759-b4de-4269810c294b",
   "metadata": {},
   "outputs": [],
   "source": [
    ":dep caw = { path = \"/Users/s/src/caw/caw\", features = [\"live\", \"widgets\"] }"
   ]
  },
  {
   "cell_type": "code",
   "execution_count": 3,
   "id": "48a37758-c534-42ba-b624-e461d636c9cc",
   "metadata": {},
   "outputs": [],
   "source": [
    "use caw::prelude::*;\n",
    "let out: LiveStereoOut = \n",
    "    live_stereo_viz_udp(Default::default())\n",
    "        .with_volume(knob(\"volume\").build());"
   ]
  },
  {
   "cell_type": "code",
   "execution_count": null,
   "id": "13d377e5-c302-4123-9868-33135d306b55",
   "metadata": {},
   "outputs": [],
   "source": []
  },
  {
   "cell_type": "code",
   "execution_count": 4,
   "id": "8574be9d-6c61-4486-8821-40cd620604b9",
   "metadata": {},
   "outputs": [],
   "source": [
    "let tempo_hz: SV<f32> = sv(8.);"
   ]
  },
  {
   "cell_type": "code",
   "execution_count": 5,
   "id": "fe58a267-c1fa-42bc-898a-7424b387f2de",
   "metadata": {},
   "outputs": [],
   "source": [
    "let clock: SV<bool> = sv(periodic_trig_hz(tempo_hz.clone()).build());"
   ]
  },
  {
   "cell_type": "code",
   "execution_count": 6,
   "id": "9a14e380-07c5-4a02-bb75-8587561c5203",
   "metadata": {},
   "outputs": [],
   "source": [
    "let clock_mel: SV<bool> = sv(clock.clone().divide(8));\n",
    "let melody: SV<f32> = sv({\n",
    "    use note::*;\n",
    "    value_sequencer(clock_mel.clone(), [\n",
    "        C3,\n",
    "        C3,\n",
    "        D3,\n",
    "        C3,\n",
    "        A3,\n",
    "        B3,\n",
    "        C3,\n",
    "    ]).freq_hz()    \n",
    "});"
   ]
  },
  {
   "cell_type": "code",
   "execution_count": 7,
   "id": "b5f96862-83b7-429d-8dfb-18c4cfccfdee",
   "metadata": {},
   "outputs": [],
   "source": [
    "let clock_mel2: SV<bool> = sv(clock.clone().divide(32));"
   ]
  },
  {
   "cell_type": "code",
   "execution_count": 33,
   "id": "35609c43-5529-480f-85e3-c773285530fe",
   "metadata": {},
   "outputs": [],
   "source": [
    "melody.set({\n",
    "    use note::*;\n",
    "    value_sequencer(clock_mel.clone(), [\n",
    "        C3,\n",
    "        C3,\n",
    "        D3,\n",
    "        C3,\n",
    "        A3,\n",
    "        B3,\n",
    "        C4,\n",
    "    ]).freq_hz()  * value_sequencer(clock_mel2.clone(), [1., 1.5, 2., 1.7]) * 0.25\n",
    "});"
   ]
  },
  {
   "cell_type": "code",
   "execution_count": 9,
   "id": "6b9e6c66-0782-4b7b-b5e3-babd5cd20eff",
   "metadata": {},
   "outputs": [],
   "source": [
    "let clock_snare: SV<bool> = sv(clock.clone().divide(8));\n",
    "\n",
    "let clock_kick: SV<bool> = sv(clock.clone().divide_with_offset(8, 4));"
   ]
  },
  {
   "cell_type": "code",
   "execution_count": 10,
   "id": "0d0b1bd6-4257-4c0e-b6c9-d19f7a770b4e",
   "metadata": {},
   "outputs": [],
   "source": [
    "let clock_kick2: SV<bool> = sv(clock.clone().divide_with_offset(16, 7));"
   ]
  },
  {
   "cell_type": "code",
   "execution_count": 11,
   "id": "cfea70af-1aa8-4dd9-9af6-bf6642a7c179",
   "metadata": {},
   "outputs": [],
   "source": [
    "let chord_progression: SV<Chord> = sv_default();\n",
    "let arp_notes: SV<KeyEvents> = sv_default();"
   ]
  },
  {
   "cell_type": "code",
   "execution_count": 12,
   "id": "95ae8e2f-a8a1-4bbd-9fed-cdbae73231e6",
   "metadata": {},
   "outputs": [],
   "source": [
    "chord_progression.set({\n",
    "    use note_name::*;\n",
    "    use chord::*;\n",
    "    value_sequencer(clock_mel2.clone(), [\n",
    "        chord(C, MAJOR.infer_7()),\n",
    "        chord(F, MINOR.infer_7()),\n",
    "        chord(A, MINOR.infer_7()),\n",
    "        chord(D, MAJOR.infer_7()),\n",
    "    ])\n",
    "});"
   ]
  },
  {
   "cell_type": "code",
   "execution_count": 13,
   "id": "2eb19106-1727-4029-8b02-ca25270882f1",
   "metadata": {},
   "outputs": [],
   "source": [
    "arp_notes.set({\n",
    "    chord_progression.clone()\n",
    "        .map(Some)\n",
    "        .key_events(ChordVoiceConfig::default().with_inversion(Inversion::InOctave { octave_base: note::C3 }))\n",
    "        .arp(clock.clone(), ArpConfig::default().with_extend_octaves_high(2).with_shape(ArpShape::UpDown))\n",
    "});"
   ]
  },
  {
   "cell_type": "code",
   "execution_count": 14,
   "id": "96464e90-27ce-4acf-bb80-c99f0f3609f4",
   "metadata": {},
   "outputs": [],
   "source": [
    "tempo_hz.set(4.);"
   ]
  },
  {
   "cell_type": "code",
   "execution_count": 15,
   "id": "85218155-c54f-4555-b37c-a5637ee32270",
   "metadata": {},
   "outputs": [],
   "source": [
    "let lpf_cutoff: SV<f32> = sv(knob(\"lpf_cutoff\").build());"
   ]
  },
  {
   "cell_type": "code",
   "execution_count": 16,
   "id": "e186986b-86bc-443a-ad74-e27edb3b9962",
   "metadata": {},
   "outputs": [],
   "source": [
    "let lpf_resonance: SV<f32> = sv(knob(\"lpf_res\").build());"
   ]
  },
  {
   "cell_type": "code",
   "execution_count": 17,
   "id": "c18b533f-c635-4b5e-926c-13dce87fc69d",
   "metadata": {},
   "outputs": [],
   "source": [
    "let drums_vol: SV<f32> = sv(knob(\"drums vol\").build());"
   ]
  },
  {
   "cell_type": "code",
   "execution_count": 18,
   "id": "c4c079d6-6c0e-4ada-a045-ec25ece62d2e",
   "metadata": {},
   "outputs": [],
   "source": [
    "let bass_vol: SV<f32> = sv(knob(\"bass vol\").build());"
   ]
  },
  {
   "cell_type": "code",
   "execution_count": 35,
   "id": "2b1a70cf-ed59-4ef7-83cc-a06eea514dbf",
   "metadata": {
    "scrolled": true
   },
   "outputs": [
    {
     "name": "stderr",
     "output_type": "stream",
     "text": [
      "\n",
      "thread 'main' panicked at src/main.rs:77:22:\n",
      "called `Result::unwrap()` on an `Err` value: Connection refused (os error 61)\n",
      "\n",
      "Stack backtrace:\n",
      "   0: std::backtrace::Backtrace::create\n",
      "   1: anyhow::error::<impl core::convert::From<E> for anyhow::Error>::from\n",
      "   2: caw_midi_udp_client::MidiUdpClient::send\n",
      "   3: caw_midi_udp_widgets_app::main\n",
      "   4: std::sys::backtrace::__rust_begin_short_backtrace\n",
      "   5: std::rt::lang_start::{{closure}}\n",
      "   6: std::rt::lang_start_internal\n",
      "   7: _main\n",
      "\n",
      "thread 'main' panicked at src/main.rs:77:22:\n",
      "called `Result::unwrap()` on an `Err` value: Connection refused (os error 61)\n",
      "\n",
      "Stack backtrace:\n",
      "   0: std::backtrace::Backtrace::create\n",
      "   1: anyhow::error::<impl core::convert::From<E> for anyhow::Error>::from\n",
      "   2: caw_midi_udp_client::MidiUdpClient::send\n",
      "   3: caw_midi_udp_widgets_app::main\n",
      "   4: std::sys::backtrace::__rust_begin_short_backtrace\n",
      "   5: std::rt::lang_start::{{closure}}\n",
      "   6: std::rt::lang_start_internal\n",
      "   7: _main\n",
      "stack backtrace:\n",
      "stack backtrace:\n",
      "\n",
      "thread 'main' panicked at src/main.rs:77:22:\n",
      "called `Result::unwrap()` on an `Err` value: Connection refused (os error 61)\n",
      "\n",
      "Stack backtrace:\n",
      "   0: std::backtrace::Backtrace::create\n",
      "   1: anyhow::error::<impl core::convert::From<E> for anyhow::Error>::from\n",
      "   2: caw_midi_udp_client::MidiUdpClient::send\n",
      "   3: caw_midi_udp_widgets_app::main\n",
      "   4: std::sys::backtrace::__rust_begin_short_backtrace\n",
      "   5: std::rt::lang_start::{{closure}}\n",
      "   6: std::rt::lang_start_internal\n",
      "   7: _main\n",
      "stack backtrace:\n",
      "\n",
      "thread 'main' panicked at src/main.rs:77:22:\n",
      "called `Result::unwrap()` on an `Err` value: Connection refused (os error 61)\n",
      "\n",
      "Stack backtrace:\n",
      "   0: std::backtrace::Backtrace::create\n",
      "   1: anyhow::error::<impl core::convert::From<E> for anyhow::Error>::from\n",
      "   2: caw_midi_udp_client::MidiUdpClient::send\n",
      "   3: caw_midi_udp_widgets_app::main\n",
      "   4: std::sys::backtrace::__rust_begin_short_backtrace\n",
      "   5: std::rt::lang_start::{{closure}}\n",
      "   6: std::rt::lang_start_internal\n",
      "   7: _main\n",
      "\n",
      "thread 'main' panicked at src/main.rs:77:22:\n",
      "called `Result::unwrap()` on an `Err` value: Connection refused (os error 61)\n",
      "\n",
      "Stack backtrace:\n",
      "   0: std::backtrace::Backtrace::create\n",
      "   1: anyhow::error::<impl core::convert::From<E> for anyhow::Error>::from\n",
      "   2: caw_midi_udp_client::MidiUdpClient::send\n",
      "   3: caw_midi_udp_widgets_app::main\n",
      "   4: std::sys::backtrace::__rust_begin_short_backtrace\n",
      "   5: std::rt::lang_start::{{closure}}\n",
      "   6: std::rt::lang_start_internal\n",
      "   7: _main\n",
      "stack backtrace:\n",
      "stack backtrace:\n",
      "   0: __rustc::rust_begin_unwind\n",
      "    0 :  __rustc1::: rust_begin_unwind \n",
      "  0:  __rustc :: rust_begin_unwind1\n",
      ": core::panicking :: panic_fmt \n",
      "1: core:: panicking :: panic_fmt2\n",
      ": core::result :: unwrap_failed \n",
      "2: core::result::unwrap_failed \n",
      "  3: caw_midi_udp_widgets_app:: main \n",
      " 3: caw_midi_udp_widgets_app::main\n",
      "   0: __rustc::rust_begin_unwind\n",
      "note: Some details are omitted, run with `RUST_BACKTRACE=full` for a verbose backtrace.\n",
      " note: Some details are omitted, run with `RUST_BACKTRACE=full` for a verbose backtrace.\n",
      "  1: core::panicking::panic_fmt\n",
      "   2: core::result::unwrap_failed\n",
      "   3: caw_midi_udp_widgets_app::main\n",
      "note: Some details are omitted, run with `RUST_BACKTRACE=full` for a verbose backtrace.\n",
      "   0: __rustc::rust_begin_unwind\n",
      "core  :: panicking1::: panic_fmtcore\n",
      "::panicking::panic_fmt\n",
      "   2 :  core ::2result: ::coreunwrap_failed::\n",
      "result::unwrap_failed\n",
      "   3 :  caw_midi_udp_widgets_app ::3main: \n",
      "caw_midi_udp_widgets_app::main\n",
      "note: Some details are omitted, run with `RUST_BACKTRACE=full` for a verbose backtrace.\n",
      "note: Some details are omitted, run with `RUST_BACKTRACE=full` for a verbose backtrace.\n"
     ]
    }
   ],
   "source": [
    "out.set_channel(|channel| {\n",
    "    let melody = {\n",
    "        arp_notes.clone().poly_voices(12).into_iter().map(|voice| {\n",
    "            let lfo1 = oscillator(Sine, 0.1).build().signed_to_01() * 5000.;\n",
    "            let rand_cutoff = noise::white().filter(sample_and_hold(clock.clone())).signed_to_01() * 5000.;\n",
    "            let lpf_env = adsr(voice.key_press_trig).r(0.2).build().exp_01(1.);\n",
    "            super_saw(voice.note.freq_hz()).num_oscillators(16).build()\n",
    "                .filter(low_pass::default((500. + rand_cutoff + lfo1) * lpf_cutoff.clone() * lpf_env)\n",
    "                        .q(lpf_resonance.clone() * 2.))\n",
    "                .filter(chorus())\n",
    "                \n",
    "        }).sum::<Sig<_>>()\n",
    "        .filter(reverb())\n",
    "        .filter(delay_trig(clock.clone()))\n",
    "        .filter(high_pass::default(1.))\n",
    "    };\n",
    "    let bass = {\n",
    "        let rand_cutoff = noise::white()\n",
    "            .filter(sample_and_hold(clock.clone())).signed_to_01() * 5000.;\n",
    "        let osc = oscillator(\n",
    "            Saw,\n",
    "            chord_progression.clone().map(|chord| chord.root.in_octave(OCTAVE_2)).freq_hz(),\n",
    "        ).build();\n",
    "        let env = adsr(clock_mel2.clone().trig_to_gate(4.)).a(1.).r(4.).build();\n",
    "        osc.filter(low_pass::default((200. + rand_cutoff) * env))\n",
    "            .filter(chorus()\n",
    "                    .num_voices(2).delay_s(0.01).depth_s(0.01).lfo_rate_hz(0.1)\n",
    "                    .lfo_offset(ChorusLfoOffset::Interleave(channel))\n",
    "                   )\n",
    "            .filter(down_sample(5.))\n",
    "            .filter(quantizer(10.))\n",
    "            .filter(compressor().threshold(0.5).scale(5.).ratio(0.2))\n",
    "    } * bass_vol.clone();\n",
    "    let drums = {\n",
    "        clock_kick.clone().trig(drum::kick()) +\n",
    "        clock_kick2.clone().trig(drum::kick()) +\n",
    "        clock_snare.clone().trig(drum::snare()).filter(compressor().threshold(0.5).scale(5.))\n",
    "    } * drums_vol.clone();\n",
    "   melody + bass + drums\n",
    "});"
   ]
  },
  {
   "cell_type": "code",
   "execution_count": 34,
   "id": "b2e2727b-bd1b-4fa8-91cd-3df677d889c7",
   "metadata": {},
   "outputs": [
    {
     "data": {
      "text/plain": [
       "()"
      ]
     },
     "execution_count": 34,
     "metadata": {},
     "output_type": "execute_result"
    }
   ],
   "source": [
    "out.set_channel(|_| 0.)"
   ]
  },
  {
   "cell_type": "code",
   "execution_count": null,
   "id": "b96f81e1-7b1b-4812-8f5a-f873510f806e",
   "metadata": {},
   "outputs": [],
   "source": []
  }
 ],
 "metadata": {
  "kernelspec": {
   "display_name": "Rust",
   "language": "rust",
   "name": "rust"
  },
  "language_info": {
   "codemirror_mode": "rust",
   "file_extension": ".rs",
   "mimetype": "text/rust",
   "name": "Rust",
   "pygment_lexer": "rust",
   "version": ""
  }
 },
 "nbformat": 4,
 "nbformat_minor": 5
}
