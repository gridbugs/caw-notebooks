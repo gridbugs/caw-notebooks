{
 "cells": [
  {
   "cell_type": "code",
   "execution_count": 60,
   "id": "3592c31e-7546-4a5d-94d1-f8789d227a70",
   "metadata": {},
   "outputs": [],
   "source": [
    ":dep caw = { path = \"/Users/s/src/caw/caw\", features = [\"live\", \"widgets\"] }"
   ]
  },
  {
   "cell_type": "code",
   "execution_count": 61,
   "id": "2287e5de-9da5-43c4-92bd-bb2d9cf0706e",
   "metadata": {},
   "outputs": [],
   "source": [
    "use caw::prelude::*;\n",
    "let out: LiveStereoOut = \n",
    "    live_stereo_viz_udp(Default::default())\n",
    "        .with_volume(knob(\"volume\").build());"
   ]
  },
  {
   "cell_type": "code",
   "execution_count": 62,
   "id": "0598fe24-e7f4-47d6-8cc3-7c89ef75c695",
   "metadata": {},
   "outputs": [],
   "source": [
    "let lpf_cutoff: SV<f32> = sv(knob(\"low pass cutofff\").build());"
   ]
  },
  {
   "cell_type": "code",
   "execution_count": 63,
   "id": "8fb7ae0e-7e60-4084-87bc-330fc1ee574e",
   "metadata": {},
   "outputs": [],
   "source": [
    "let lpf_resonance: SV<f32> = sv(knob(\"low pass res\").build());"
   ]
  },
  {
   "cell_type": "code",
   "execution_count": 100,
   "id": "d5a8a8a6-4a59-49e9-b333-474e287fc15b",
   "metadata": {},
   "outputs": [],
   "source": [
    "let kick_lpf_cutoff: SV<f32> = sv(knob(\"kick lpf\").build());"
   ]
  },
  {
   "cell_type": "code",
   "execution_count": 107,
   "id": "fecc2838-b5d7-4202-8ff0-57f936c94234",
   "metadata": {},
   "outputs": [],
   "source": [
    "let kick_lpf_q: SV<f32> = sv(knob(\"kick q\").build());"
   ]
  },
  {
   "cell_type": "code",
   "execution_count": 81,
   "id": "9eb5db9f-63b2-4b3a-a8eb-642b83ef989b",
   "metadata": {},
   "outputs": [],
   "source": [
    "let pwm: SV<f32> = sv(knob(\"pwm\").build());"
   ]
  },
  {
   "cell_type": "code",
   "execution_count": 127,
   "id": "183a2440-bcbd-4c91-807c-c7dae17bffc1",
   "metadata": {},
   "outputs": [],
   "source": [
    "let clock_hz: SV<f32> = sv_default();\n",
    "let clock: SV<bool> = sv_default();"
   ]
  },
  {
   "cell_type": "code",
   "execution_count": 136,
   "id": "a1acb4b4-45e5-4a0d-af39-09e117a28d06",
   "metadata": {},
   "outputs": [
    {
     "name": "stderr",
     "output_type": "stream",
     "text": [
      "\n",
      "thread 'main' panicked at src/main.rs:77:22:\n",
      "called `Result::unwrap()` on an `Err` value: Connection refused (os error 61)\n",
      "\n",
      "Stack backtrace:\n",
      "   0: std::backtrace::Backtrace::create\n",
      "   1: anyhow::error::<impl core::convert::From<E> for anyhow::Error>::from\n",
      "   2: caw_midi_udp_client::MidiUdpClient::send\n",
      "   3: caw_midi_udp_widgets_app::main\n",
      "   4: std::sys::backtrace::__rust_begin_short_backtrace\n",
      "   5: std::rt::lang_start::{{closure}}\n",
      "   6: std::rt::lang_start_internal\n",
      "   7: _main\n",
      "\n",
      "thread 'main' panicked at src/main.rs:77:22:\n",
      "called `Result::unwrap()` on an `Err` value: Connection refused (os error 61)\n",
      "\n",
      "Stack backtrace:\n",
      "   0: std::backtrace::Backtrace::create\n",
      "   1: anyhow::error::<impl core::convert::From<E> for anyhow::Error>::from\n",
      "   2: caw_midi_udp_client::MidiUdpClient::send\n",
      "   3: caw_midi_udp_widgets_app::main\n",
      "   4: std::sys::backtrace::__rust_begin_short_backtrace\n",
      "   5: std::rt::lang_start::{{closure}}\n",
      "   6: std::rt::lang_start_internal\n",
      "   7: _main\n",
      "\n",
      "thread 'main' panicked at src/main.rs:77:22:\n",
      "called `Result::unwrap()` on an `Err` value: Connection refused (os error 61)\n",
      "\n",
      "Stack backtrace:\n",
      "   0: std::backtrace::Backtrace::create\n",
      "   1: anyhow::error::<impl core::convert::From<E> for anyhow::Error>::from\n",
      "   2: caw_midi_udp_client::MidiUdpClient::send\n",
      "   3: caw_midi_udp_widgets_app::main\n",
      "   4: std::sys::backtrace::__rust_begin_short_backtrace\n",
      "   5: std::rt::lang_start::{{closure}}\n",
      "   6: std::rt::lang_start_internal\n",
      "   7: _main\n",
      "stack backtrace:\n",
      "stack backtrace:\n",
      "stack backtrace:\n",
      "\n",
      "thread 'main' panicked at src/main.rs:77:22:\n",
      "called `Result::unwrap()` on an `Err` value: Connection refused (os error 61)\n",
      "\n",
      "Stack backtrace:\n",
      "   0: std::backtrace::Backtrace::create\n",
      "   1: anyhow::error::<impl core::convert::From<E> for anyhow::Error>::from\n",
      "   2: caw_midi_udp_client::MidiUdpClient::send\n",
      "   3: caw_midi_udp_widgets_app::main\n",
      "   4: std::sys::backtrace::__rust_begin_short_backtrace\n",
      "   5: std::rt::lang_start::{{closure}}\n",
      "   6: std::rt::lang_start_internal\n",
      "   7: _main\n",
      "stack backtrace:\n",
      "      0 :  __rustc0::: rust_begin_unwind__rustc\n",
      "::rust_begin_unwind\n",
      "    1 :  core1:::  panickingcore0::: panicking::panic_fmt\n",
      "   2: core::result::::unwrap_failed\n",
      "panic_fmt\n",
      "   3: __rustccaw_midi_udp_widgets_app::::mainrust_begin_unwind\n",
      "  \n",
      "  1 :   core ::0panicking: ::__rustcpanic_fmt\n",
      "note: Some details are omitted, run with `RUST_BACKTRACE=full` for a verbose backtrace.\n",
      "   2::: corerust_begin_unwind::\n",
      " result::unwrap_failed\n",
      "   3: caw_midi_udp_widgets_app::main\n",
      "2: core::result :: unwrap_failed \n",
      "1note: Some details are omitted, run with `RUST_BACKTRACE=full` for a verbose backtrace.\n",
      "   3: caw_midi_udp_widgets_app::main\n",
      "note: Some details are omitted, run with `RUST_BACKTRACE=full` for a verbose backtrace.\n",
      "\n",
      "thread 'main' panicked at src/main.rs:77:22:\n",
      "called `Result::unwrap()` on an `Err` value: Connection refused (os error 61)\n",
      "\n",
      "Stack backtrace:\n",
      "   0: std::backtrace::Backtrace::create\n",
      "   1: anyhow::error::<impl core::convert::From<E> for anyhow::Error>::from\n",
      "   2: caw_midi_udp_client::MidiUdpClient::send\n",
      "   3: caw_midi_udp_widgets_app::main\n",
      "   4: std::sys::backtrace::__rust_begin_short_backtrace\n",
      "   5: std::rt::lang_start::{{closure}}\n",
      "   6: std::rt::lang_start_internal\n",
      "   7: _main\n",
      ": \n",
      "thread 'main' panicked at src/main.rs:77:22:\n",
      "called `Result::unwrap()` on an `Err` value: Connection refused (os error 61)\n",
      "\n",
      "Stack backtrace:\n",
      "   0: std::backtrace::Backtrace::create\n",
      "   1: anyhow::error::<impl core::convert::From<E> for anyhow::Error>::from\n",
      "   2: caw_midi_udp_client::MidiUdpClient::send\n",
      "   3: caw_midi_udp_widgets_app::main\n",
      "   4: std::sys::backtrace::__rust_begin_short_backtrace\n",
      "   5: std::rt::lang_start::{{closure}}\n",
      "   6: std::rt::lang_start_internal\n",
      "   7: _main\n",
      "core::panicking::panic_fmt\n",
      "stack backtrace:\n",
      "   2: core::result::unwrap_failed\n",
      "   3: caw_midi_udp_widgets_app::main\n",
      "note: Some details are omitted, run with `RUST_BACKTRACE=full` for a verbose backtrace.\n",
      "stack backtrace:\n",
      "   0: __rustc::rust_begin_unwind\n",
      "   1: core::panicking::panic_fmt\n",
      "      20: : core__rustc::rust_begin_unwind\n",
      "   ::1result: ::coreunwrap_failed::\n",
      "panicking::panic_fmt   \n",
      "  3 2: : corecaw_midi_udp_widgets_app::result::unwrap_failed\n",
      " ::  main3\n",
      ": caw_midi_udp_widgets_app::main\n",
      "note: Some details are omitted, run with `RUST_BACKTRACE=full` for a verbose backtrace.\n",
      "note: Some details are omitted, run with `RUST_BACKTRACE=full` for a verbose backtrace.\n"
     ]
    }
   ],
   "source": [
    "clock_hz.set(8.);"
   ]
  },
  {
   "cell_type": "code",
   "execution_count": 129,
   "id": "a111697c-56ff-43a4-8ea3-c7d72bbef2f6",
   "metadata": {},
   "outputs": [],
   "source": [
    "let snare_clock: SV<bool> = sv(clock.clone().divide_with_offset(2, 1));\n",
    "let kick_clock: SV<bool> = sv(clock.clone().divide_with_offset(2, 0));"
   ]
  },
  {
   "cell_type": "code",
   "execution_count": 130,
   "id": "fc7fd6ab-5250-4a89-a55c-0d95c9646419",
   "metadata": {},
   "outputs": [],
   "source": [
    "clock.set(periodic_trig_hz(clock_hz.clone()).build());"
   ]
  },
  {
   "cell_type": "code",
   "execution_count": 131,
   "id": "168f5388-5a96-4f25-b5a8-7e827d4e25bf",
   "metadata": {},
   "outputs": [],
   "source": [
    "let chord_progression = {\n",
    "};"
   ]
  },
  {
   "cell_type": "code",
   "execution_count": 135,
   "id": "797f5a66-97d0-41fe-872a-011965434949",
   "metadata": {},
   "outputs": [],
   "source": [
    "out.set_channel(|channel| {\n",
    "    let filter_env = adsr(kick_clock.clone()).r(0.2).build().shared();\n",
    "    \n",
    "    let freq = match channel {\n",
    "        Channel::Left => (20. +200. * filter_env.clone()).boxed(),\n",
    "        Channel::Right => (20. + 200. * filter_env.clone()).boxed(),\n",
    "    };\n",
    "    \n",
    "    let kick_sine = (oscillator(Sine, freq)\n",
    "        .pulse_width_01(pwm.clone())\n",
    "        .reset_offset_01(channel.circle_phase_offset_01())\n",
    "        .build() * filter_env.clone());\n",
    "    let kick_noise = noise::white()\n",
    "        .filter(low_pass::default(filter_env.clone() * 10000. * kick_lpf_cutoff.clone()).q(2. * kick_lpf_q.clone()));\n",
    "   \n",
    "\n",
    "\n",
    "    let snare_filter_env = adsr(snare_clock.clone()).r(0.1).build().shared();\n",
    "        \n",
    "    let snare_noise = \n",
    "        noise::white()\n",
    "        .filter(low_pass::default(snare_filter_env.clone() * 15000. * kick_lpf_cutoff.clone()).q(2. * kick_lpf_q.clone()));\n",
    "\n",
    "     kick_sine  + kick_noise + snare_noise\n",
    "    \n",
    "        //.filter(low_pass::default(lpf_cutoff.clone() * filter_env * 10_000.).q(lpf_resonance.clone()))\n",
    "        //.filter(compressor().scale(4.).threshold(0.5).ratio(0.1))\n",
    "        //.filter(chorus())\n",
    "       // .filter(reverb())\n",
    "        //.filter(high_pass_butterworth(1.))\n",
    "});"
   ]
  },
  {
   "cell_type": "code",
   "execution_count": null,
   "id": "310cc967-3849-454b-b9a5-f6a791ef54de",
   "metadata": {},
   "outputs": [],
   "source": []
  }
 ],
 "metadata": {
  "kernelspec": {
   "display_name": "Rust",
   "language": "rust",
   "name": "rust"
  },
  "language_info": {
   "codemirror_mode": "rust",
   "file_extension": ".rs",
   "mimetype": "text/rust",
   "name": "Rust",
   "pygment_lexer": "rust",
   "version": ""
  }
 },
 "nbformat": 4,
 "nbformat_minor": 5
}
