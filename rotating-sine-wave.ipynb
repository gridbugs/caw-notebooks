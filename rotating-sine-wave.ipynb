{
 "cells": [
  {
   "cell_type": "code",
   "execution_count": 2,
   "id": "a736cd2f-de93-4386-8e9e-92cccdff2b5e",
   "metadata": {},
   "outputs": [],
   "source": [
    ":dep caw = { path = \"/Users/s/src/caw/caw\", features = [\"live\", \"widgets\"] }"
   ]
  },
  {
   "cell_type": "code",
   "execution_count": 3,
   "id": "38808713-e6ac-41b0-b418-01e21e84d977",
   "metadata": {},
   "outputs": [],
   "source": [
    "use caw::prelude::*;\n",
    "let out: LiveStereoOut = \n",
    "    live_stereo_viz_udp(Default::default())\n",
    "        .with_volume(knob(\"volume\").build());"
   ]
  },
  {
   "cell_type": "code",
   "execution_count": 6,
   "id": "fa8ea8b0-71ba-44aa-89c1-68a1d933aa3a",
   "metadata": {},
   "outputs": [
    {
     "name": "stderr",
     "output_type": "stream",
     "text": [
      "\n",
      "thread 'main' panicked at src/main.rs:77:22:\n",
      "called `Result::unwrap()` on an `Err` value: Connection refused (os error 61)\n",
      "\n",
      "Stack backtrace:\n",
      "   0: std::backtrace::Backtrace::create\n",
      "   1: anyhow::error::<impl core::convert::From<E> for anyhow::Error>::from\n",
      "   2: caw_midi_udp_client::MidiUdpClient::send\n",
      "   3: caw_midi_udp_widgets_app::main\n",
      "   4: std::sys::backtrace::__rust_begin_short_backtrace\n",
      "   5: std::rt::lang_start::{{closure}}\n",
      "   6: std::rt::lang_start_internal\n",
      "   7: _main\n",
      "stack backtrace:\n",
      "   0: __rustc::rust_begin_unwind\n",
      "   1: core::panicking::panic_fmt\n",
      "   2: core::result::unwrap_failed\n",
      "   3: caw_midi_udp_widgets_app::main\n",
      "note: Some details are omitted, run with `RUST_BACKTRACE=full` for a verbose backtrace.\n"
     ]
    }
   ],
   "source": [
    "out.set_channel(|channel| {\n",
    "    let offset = channel.circle_phase_offset_01();\n",
    "    let freq = match channel {\n",
    "        Channel::Left => sig_boxed(100.),\n",
    "        Channel::Right => sig_boxed(150.25),\n",
    "    };\n",
    "    oscillator(Sine, freq).build()\n",
    "});"
   ]
  },
  {
   "cell_type": "code",
   "execution_count": null,
   "id": "a09a9b41-ca3a-4abd-be88-83cdde46ee4f",
   "metadata": {},
   "outputs": [],
   "source": []
  }
 ],
 "metadata": {
  "kernelspec": {
   "display_name": "Rust",
   "language": "rust",
   "name": "rust"
  },
  "language_info": {
   "codemirror_mode": "rust",
   "file_extension": ".rs",
   "mimetype": "text/rust",
   "name": "Rust",
   "pygment_lexer": "rust",
   "version": ""
  }
 },
 "nbformat": 4,
 "nbformat_minor": 5
}
