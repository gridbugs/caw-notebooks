{
 "cells": [
  {
   "cell_type": "code",
   "execution_count": 2,
   "id": "18898e88-2d6e-4097-b602-521c47570019",
   "metadata": {},
   "outputs": [],
   "source": [
    ":dep caw = { path = \"/Users/s/src/caw/caw\", features = [\"live\", \"widgets\"] }"
   ]
  },
  {
   "cell_type": "code",
   "execution_count": 3,
   "id": "0f742012-8407-4c5b-8372-959f907222b7",
   "metadata": {},
   "outputs": [
    {
     "ename": "Error",
     "evalue": "failed to resolve: use of undeclared crate or module `caw`",
     "output_type": "error",
     "traceback": [
      "\u001b[31m[E0433] Error:\u001b[0m failed to resolve: use of undeclared crate or module `caw`"
     ]
    }
   ],
   "source": [
    "use caw::prelude::*;"
   ]
  },
  {
   "cell_type": "code",
   "execution_count": 4,
   "id": "23e10098-4a73-44c2-988a-7d3714df4aa8",
   "metadata": {},
   "outputs": [
    {
     "ename": "Error",
     "evalue": "cannot find function `live_stereo` in this scope",
     "output_type": "error",
     "traceback": [
      "\u001b[31m[E0425] Error:\u001b[0m cannot find function `live_stereo` in this scope",
      "   \u001b[38;5;246m╭\u001b[0m\u001b[38;5;246m─\u001b[0m\u001b[38;5;246m[\u001b[0mcommand_4:1:1\u001b[38;5;246m]\u001b[0m",
      "   \u001b[38;5;246m│\u001b[0m",
      " \u001b[38;5;246m1 │\u001b[0m \u001b[38;5;249ml\u001b[0m\u001b[38;5;249me\u001b[0m\u001b[38;5;249mt\u001b[0m\u001b[38;5;249m \u001b[0m\u001b[38;5;249mo\u001b[0m\u001b[38;5;249mu\u001b[0m\u001b[38;5;249mt\u001b[0m\u001b[38;5;249m \u001b[0m\u001b[38;5;249m=\u001b[0m\u001b[38;5;249m \u001b[0m\u001b[38;5;54ml\u001b[0m\u001b[38;5;54mi\u001b[0m\u001b[38;5;54mv\u001b[0m\u001b[38;5;54me\u001b[0m\u001b[38;5;54m_\u001b[0m\u001b[38;5;54ms\u001b[0m\u001b[38;5;54mt\u001b[0m\u001b[38;5;54me\u001b[0m\u001b[38;5;54mr\u001b[0m\u001b[38;5;54me\u001b[0m\u001b[38;5;54mo\u001b[0m\u001b[38;5;249m(\u001b[0m\u001b[38;5;249m)\u001b[0m\u001b[38;5;249m;\u001b[0m",
      " \u001b[38;5;240m  │\u001b[0m           \u001b[38;5;54m─\u001b[0m\u001b[38;5;54m─\u001b[0m\u001b[38;5;54m─\u001b[0m\u001b[38;5;54m─\u001b[0m\u001b[38;5;54m─\u001b[0m\u001b[38;5;54m┬\u001b[0m\u001b[38;5;54m─\u001b[0m\u001b[38;5;54m─\u001b[0m\u001b[38;5;54m─\u001b[0m\u001b[38;5;54m─\u001b[0m\u001b[38;5;54m─\u001b[0m  ",
      " \u001b[38;5;240m  │\u001b[0m                \u001b[38;5;54m╰\u001b[0m\u001b[38;5;54m─\u001b[0m\u001b[38;5;54m─\u001b[0m\u001b[38;5;54m─\u001b[0m\u001b[38;5;54m─\u001b[0m\u001b[38;5;54m─\u001b[0m\u001b[38;5;54m─\u001b[0m\u001b[38;5;54m─\u001b[0m not found in this scope",
      "\u001b[38;5;246m───╯\u001b[0m"
     ]
    }
   ],
   "source": [
    "let out = live_stereo();"
   ]
  },
  {
   "cell_type": "code",
   "execution_count": 14,
   "id": "628f51ed-569b-4c0b-9efe-d41ccfe1a0b8",
   "metadata": {},
   "outputs": [],
   "source": [
    "out.set(|| {\n",
    "    super_saw(60. * knob(\"freq\").build()).build()\n",
    "        .filter(low_pass::default(5000.0 * knob(\"lpf\").build()).q(knob(\"q\").build()))\n",
    "});"
   ]
  },
  {
   "cell_type": "code",
   "execution_count": 15,
   "id": "3e869721-10d5-4f47-9019-ad879d8ceb13",
   "metadata": {},
   "outputs": [
    {
     "data": {
      "text/plain": [
       "()"
      ]
     },
     "execution_count": 15,
     "metadata": {},
     "output_type": "execute_result"
    },
    {
     "name": "stderr",
     "output_type": "stream",
     "text": [
      "2025-05-15 23:27:41.870 caw_midi_udp_widgets_app[38222:3073120] +[IMKClient subclass]: chose IMKClient_Modern\n",
      "2025-05-15 23:27:41.870 caw_midi_udp_widgets_app[38222:3073120] +[IMKInputSession subclass]: chose IMKInputSession_Modern\n",
      "2025-05-15 23:27:44.221 caw_midi_udp_widgets_app[38168:3073066] +[IMKClient subclass]: chose IMKClient_Modern\n",
      "2025-05-15 23:27:44.221 caw_midi_udp_widgets_app[38168:3073066] +[IMKInputSession subclass]: chose IMKInputSession_Modern\n",
      "2025-05-15 23:27:44.968 caw_midi_udp_widgets_app[38195:3073093] +[IMKClient subclass]: chose IMKClient_Modern\n",
      "2025-05-15 23:27:44.968 caw_midi_udp_widgets_app[38195:3073093] +[IMKInputSession subclass]: chose IMKInputSession_Modern\n"
     ]
    }
   ],
   "source": [
    "out.set(|| 0.0)"
   ]
  },
  {
   "cell_type": "code",
   "execution_count": null,
   "id": "b20e7181-4d19-4b41-97ed-8273d6418484",
   "metadata": {},
   "outputs": [],
   "source": []
  }
 ],
 "metadata": {
  "kernelspec": {
   "display_name": "Rust",
   "language": "rust",
   "name": "rust"
  },
  "language_info": {
   "codemirror_mode": "rust",
   "file_extension": ".rs",
   "mimetype": "text/rust",
   "name": "Rust",
   "pygment_lexer": "rust",
   "version": ""
  }
 },
 "nbformat": 4,
 "nbformat_minor": 5
}
