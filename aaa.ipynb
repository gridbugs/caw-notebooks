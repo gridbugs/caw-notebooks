{
 "cells": [
  {
   "cell_type": "code",
   "execution_count": 22,
   "id": "a736cd2f-de93-4386-8e9e-92cccdff2b5e",
   "metadata": {},
   "outputs": [],
   "source": [
    ":dep caw = { path = \"/Users/s/src/caw/caw\", features = [\"live\", \"widgets\", \"viz\"] }"
   ]
  },
  {
   "cell_type": "code",
   "execution_count": 24,
   "id": "38808713-e6ac-41b0-b418-01e21e84d977",
   "metadata": {},
   "outputs": [],
   "source": [
    "use caw::prelude::*;\n",
    "let out: LiveStereoOut = \n",
    "    live_stereo_viz_udp(Default::default())\n",
    "        .with_volume(knob(\"volume\").build());"
   ]
  },
  {
   "cell_type": "code",
   "execution_count": 25,
   "id": "1e3c2940-93f8-459f-8eab-7afab8d4395a",
   "metadata": {},
   "outputs": [],
   "source": [
    "let knob_freq_hz: SV<f32> = sv(knob(\"freq_hz\").build());"
   ]
  },
  {
   "cell_type": "code",
   "execution_count": 26,
   "id": "943108a3-8d4c-4992-8716-a7c0398f1086",
   "metadata": {},
   "outputs": [],
   "source": [
    "let lpf_freq_hz: SV<f32> = sv(knob(\"lpf_hz\").build());"
   ]
  },
  {
   "cell_type": "code",
   "execution_count": 27,
   "id": "89ece5be-014e-4854-969b-6d291ca50fa6",
   "metadata": {},
   "outputs": [],
   "source": [
    "let clock_freq: SV<f32> = sv_default();"
   ]
  },
  {
   "cell_type": "code",
   "execution_count": 28,
   "id": "4a01907f-ee02-4bfa-abc5-28c822f0e757",
   "metadata": {},
   "outputs": [],
   "source": [
    "let notes: SV<Note> = sv_default();"
   ]
  },
  {
   "cell_type": "code",
   "execution_count": 29,
   "id": "bda68e83-1dd0-4535-b38c-686e42b23b59",
   "metadata": {},
   "outputs": [],
   "source": [
    "let notes2: SV<Note> = sv_default();"
   ]
  },
  {
   "cell_type": "code",
   "execution_count": 30,
   "id": "eb0bc676-c39b-49f5-acdf-d12dec7a2642",
   "metadata": {},
   "outputs": [],
   "source": [
    "let accents: SV<f32> = sv_default();"
   ]
  },
  {
   "cell_type": "code",
   "execution_count": 31,
   "id": "3ef0f5af-38ec-42d6-8de1-07a215e8c85f",
   "metadata": {},
   "outputs": [],
   "source": [
    "let clock: SV<bool> = sv(periodic_trig_hz(clock_freq.clone()).build());"
   ]
  },
  {
   "cell_type": "code",
   "execution_count": 32,
   "id": "e9a1cb4d-8e71-4835-9e92-31ee442818af",
   "metadata": {},
   "outputs": [],
   "source": [
    "let drums: SV<f32> = sv_default();"
   ]
  },
  {
   "cell_type": "code",
   "execution_count": 33,
   "id": "a616517f-4326-4fb3-bca9-293669b81a03",
   "metadata": {},
   "outputs": [],
   "source": [
    "let baseline: SV<f32> = sv_default();"
   ]
  },
  {
   "cell_type": "code",
   "execution_count": 34,
   "id": "fa8ea8b0-71ba-44aa-89c1-68a1d933aa3a",
   "metadata": {},
   "outputs": [],
   "source": [
    "out.set_channel(|channel| {\n",
    "    let offset = channel.circle_phase_offset_01();\n",
    "    let freq = match channel {\n",
    "        Channel::Left => sig_boxed(notes.clone().freq_hz()),\n",
    "        Channel::Right => sig_boxed(notes.clone().freq_hz()),\n",
    "    };\n",
    "    let freq2 = match channel {\n",
    "        Channel::Left => sig_boxed(notes2.clone().freq_hz()),\n",
    "        Channel::Right => sig_boxed(notes2.clone().freq_hz()),\n",
    "    };\n",
    "    \n",
    "    let sah = noise::white().filter(sample_and_hold(clock.clone()));\n",
    "    let env = adsr(clock.clone().divide(1).trig_to_gate(0.01)).a(0.).r(0.5).build();\n",
    "    (oscillator(Saw, freq).build() +\n",
    "     oscillator(Saw, freq2).build())\n",
    "        .filter(\n",
    "            low_pass::default(\n",
    "                10_000. * \n",
    "                lpf_freq_hz.clone() * \n",
    "                env * \n",
    "                (1. + sah * 0.2) * \n",
    "                accents.clone() *\n",
    "                1.0\n",
    "            ).q(1.))\n",
    "        //.filter(down_sample(10.0))\n",
    "        //.filter(quantizer(100.))\n",
    "        .filter(compressor().scale(1.).ratio(0.2).threshold(0.5))\n",
    "        .filter(chorus()\n",
    "                .lfo_offset(ChorusLfoOffset::Interleave(channel))\n",
    "                .lfo_rate_hz(0.1)\n",
    "                .num_voices(1)\n",
    "                .delay_s(0.001)\n",
    "               )\n",
    "         .filter(reverb().room_size(0.8))\n",
    "        .filter(high_pass_butterworth(1.)) + drums.clone() + baseline.clone()\n",
    "        \n",
    "});"
   ]
  },
  {
   "cell_type": "code",
   "execution_count": 35,
   "id": "d8b4dbba-4674-4e79-b7ee-61f5befe21c1",
   "metadata": {},
   "outputs": [],
   "source": [
    "clock_freq.set(4.);"
   ]
  },
  {
   "cell_type": "code",
   "execution_count": 36,
   "id": "18c663e0-3c3f-4cb6-b436-cfbf2446556f",
   "metadata": {},
   "outputs": [],
   "source": [
    "notes.set(note::C2);"
   ]
  },
  {
   "cell_type": "code",
   "execution_count": 37,
   "id": "67c72315-0ec0-4ed0-b7bf-5a006a4dbe16",
   "metadata": {},
   "outputs": [],
   "source": [
    "notes.set(value_sequencer(clock.clone().divide(1), [\n",
    "    note::C3,\n",
    "    note::C5,\n",
    "    note::A3,\n",
    "    note::D4,\n",
    "]));"
   ]
  },
  {
   "cell_type": "code",
   "execution_count": 38,
   "id": "58bfe50b-2301-4d9e-b8cd-939ea04b6b58",
   "metadata": {},
   "outputs": [],
   "source": [
    "notes2.set(value_sequencer(clock.clone().divide(1), [\n",
    "    note::G3,\n",
    "    note::F3,\n",
    "    note::A3,\n",
    "    note::D5,\n",
    "    note::G3,\n",
    "    note::F5,\n",
    "    note::A3,\n",
    "    note::D4,\n",
    "    note::A5,\n",
    "]));"
   ]
  },
  {
   "cell_type": "code",
   "execution_count": 39,
   "id": "1cfc1fc5-1234-4f8a-9d60-1318e9603a9d",
   "metadata": {},
   "outputs": [],
   "source": [
    "accents.set(value_sequencer(clock.clone().divide(2), [\n",
    "    0.2,\n",
    "    0.2,\n",
    "    0.4,\n",
    "    0.2,\n",
    "    1.0,\n",
    "    0.2,\n",
    "    0.2,\n",
    "    0.2,\n",
    "]));"
   ]
  },
  {
   "cell_type": "code",
   "execution_count": 47,
   "id": "3b52da15-713f-4daf-a9cf-fc96cff23f91",
   "metadata": {},
   "outputs": [],
   "source": []
  },
  {
   "cell_type": "code",
   "execution_count": 57,
   "id": "a855a4e6-216e-43ea-8d95-f8885f8dcf2b",
   "metadata": {},
   "outputs": [
    {
     "name": "stderr",
     "output_type": "stream",
     "text": [
      "\n",
      "thread 'main' panicked at src/main.rs:77:22:\n",
      "called `Result::unwrap()` on an `Err` value: Connection refused (os error 61)\n",
      "\n",
      "Stack backtrace:\n",
      "   0: std::backtrace::Backtrace::create\n",
      "   1: anyhow::error::<impl core::convert::From<E> for anyhow::Error>::from\n",
      "   2: caw_midi_udp_client::MidiUdpClient::send\n",
      "   3: caw_midi_udp_widgets_app::main\n",
      "   4: std::sys::backtrace::__rust_begin_short_backtrace\n",
      "   5: std::rt::lang_start::{{closure}}\n",
      "   6: std::rt::lang_start_internal\n",
      "   7: _main\n",
      "\n",
      "thread 'main' panicked at src/main.rs:77:22:\n",
      "called `Result::unwrap()` on an `Err` value: Connection refused (os error 61)\n",
      "\n",
      "Stack backtrace:\n",
      "   0: std::backtrace::Backtrace::create\n",
      "   1: anyhow::error::<impl core::convert::From<E> for anyhow::Error>::from\n",
      "   2: caw_midi_udp_client::MidiUdpClient::send\n",
      "   3: caw_midi_udp_widgets_app::main\n",
      "   4: std::sys::backtrace::__rust_begin_short_backtrace\n",
      "   5: std::rt::lang_start::{{closure}}\n",
      "   6: std::rt::lang_start_internal\n",
      "   7: _main\n",
      "\n",
      "thread 'main' panicked at src/main.rs:77:22:\n",
      "called `Result::unwrap()` on an `Err` value: Connection refused (os error 61)\n",
      "\n",
      "Stack backtrace:\n",
      "   0: std::backtrace::Backtrace::create\n",
      "   1: anyhow::error::<impl core::convert::From<E> for anyhow::Error>::from\n",
      "   2: caw_midi_udp_client::MidiUdpClient::send\n",
      "   3: caw_midi_udp_widgets_app::main\n",
      "   4: std::sys::backtrace::__rust_begin_short_backtrace\n",
      "   5: std::rt::lang_start::{{closure}}\n",
      "   6: std::rt::lang_start_internal\n",
      "   7: _main\n",
      "stack backtrace:\n",
      "stack backtrace:\n",
      "stack backtrace:\n",
      "   0:     0__rustc  ::0rust_begin_unwind: \n",
      ": __rustc__rustc::::rust_begin_unwindrust_begin_unwind\n",
      "\n",
      "    1 :  core :: panicking1 : 1core: ::corepanicking::::panickingpanic_fmt::\n",
      "::panic_fmt\n",
      "     panic_fmt \n",
      "2 :  2core::result::unwrap_failed: core ::result2\n",
      ": core::::unwrap_failed\n",
      "result:: unwrap_failed \n",
      " 3:    caw_midi_udp_widgets_app3::: maincaw_midi_udp_widgets_app\n",
      "::main\n",
      "   3: caw_midi_udp_widgets_app::main\n",
      "note: Some details are omitted, run with `RUST_BACKTRACE=full` for a verbose backtrace.\n",
      "note: Some details are omitted, run with `RUST_BACKTRACE=full` for a verbose backtrace.\n",
      "note: Some details are omitted, run with `RUST_BACKTRACE=full` for a verbose backtrace.\n"
     ]
    }
   ],
   "source": [
    "use caw::viz_udp_app_lib::oscilloscope;\n",
    "let mut viz2 = oscilloscope::Server::new(\"Drums\", oscilloscope::Config {\n",
    "    ..Default::default()\n",
    "}).unwrap();\n",
    "\n",
    "drums.set(\n",
    "    (clock.clone().divide_with_offset(4, 0).trig(drum::kick()) * 0.5 +\n",
    "    clock.clone().divide_with_offset(5, 2).trig(drum::snare()) * 0.5 +\n",
    "        clock.clone().divide_with_offset(4, 1).trig(drum::snare()) * 0.5 +\n",
    "    0.).filter(chorus()\n",
    "                .lfo_rate_hz(0.1)\n",
    "                .num_voices(1)\n",
    "                .delay_s(0.001)\n",
    "              )\n",
    "    .for_each(move |x| {\n",
    "        //println!(\"{}\", x);\n",
    "        let _ = viz2.send_samples_batched(&[x, 0.]);\n",
    "    })\n",
    ");"
   ]
  },
  {
   "cell_type": "code",
   "execution_count": 41,
   "id": "f4c08f16-a6e6-4ee6-84e3-61b77a46237e",
   "metadata": {},
   "outputs": [],
   "source": [
    "baseline.set( {\n",
    "    let env = adsr(clock.clone().divide(7).trig_to_gate(0.01)).a(0.).r(1.).build();\n",
    "    super_saw(notes2.clone().freq_hz()).build()\n",
    "        .filter(low_pass::default(6000. * env).q(1.0)) * 0.4\n",
    "}\n",
    "    );"
   ]
  },
  {
   "cell_type": "code",
   "execution_count": null,
   "id": "2e19ac02-e0e3-4077-98b4-ee38a31414cd",
   "metadata": {},
   "outputs": [],
   "source": []
  },
  {
   "cell_type": "code",
   "execution_count": null,
   "id": "17266448-bf37-4d41-bb82-cdc207d1c2c7",
   "metadata": {},
   "outputs": [],
   "source": []
  }
 ],
 "metadata": {
  "kernelspec": {
   "display_name": "Rust",
   "language": "rust",
   "name": "rust"
  },
  "language_info": {
   "codemirror_mode": "rust",
   "file_extension": ".rs",
   "mimetype": "text/rust",
   "name": "Rust",
   "pygment_lexer": "rust",
   "version": ""
  }
 },
 "nbformat": 4,
 "nbformat_minor": 5
}
