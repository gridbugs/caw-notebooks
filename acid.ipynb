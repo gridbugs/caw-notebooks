{
 "cells": [
  {
   "cell_type": "code",
   "execution_count": 2,
   "id": "3484104e-2f09-4e42-839a-4bcfb87da79c",
   "metadata": {},
   "outputs": [],
   "source": [
    ":dep caw = { path = \"/Users/s/src/caw/caw\", features = [\"player\"] }\n",
    ":dep caw_midi_udp_widgets_app_lib = { path = \"/Users/s/src/caw/midi-udp-widgets-app-lib\" }"
   ]
  },
  {
   "cell_type": "code",
   "execution_count": 3,
   "id": "6907f4f7-8f9d-443d-9bd5-b835f639afe3",
   "metadata": {},
   "outputs": [],
   "source": [
    "use caw::prelude::*;\n",
    "let out = Stereo::new_fn(|| svf32(0.0));\n",
    "let player: PlayerHandle = play_stereo_default(out.clone()).unwrap();"
   ]
  },
  {
   "cell_type": "code",
   "execution_count": 4,
   "id": "d12b407c-3fb9-4aec-b65c-060e4875ebea",
   "metadata": {},
   "outputs": [],
   "source": [
    "let tempo_hz = svf32(8.0);\n",
    "let trig = sv(periodic_trig_hz(tempo_hz.clone()).build());\n",
    "let seq = {\n",
    "    use note::*;\n",
    "    sv(value_sequencer(trig.clone(), [(C2, 0.5f32), (G2, 0.75)]))\n",
    "};"
   ]
  },
  {
   "cell_type": "code",
   "execution_count": 5,
   "id": "4f5ffd3e-c362-4806-9afe-0192e47c7fd5",
   "metadata": {},
   "outputs": [],
   "source": [
    "let lfo = svf32(0.5);\n",
    "let res = svf32(0.5);\n",
    "out.set(|| {\n",
    "    let (note, accent) = seq.clone().unzip();\n",
    "    let accent = accent.shared();\n",
    "    let gate = trig.clone().trig_to_gate(0.01).shared();\n",
    "    let filter_env = adsr_linear_01(gate.clone()).a(0.01).r(0.125).build().exp_01(1.);\n",
    "    let amp_env = adsr_linear_01(gate.clone()).a(0.01).r(0.125).build().exp_01(1.);\n",
    "    let osc =\n",
    "        oscillator(Saw, note.freq_hz() ).build();\n",
    "    let v =(osc\n",
    "         \n",
    "         * amp_env)\n",
    "    ;\n",
    "    let d = \n",
    "        trig.clone().divide(8).trig(drum::kick()).filter(low_pass::default(6000.0)) * 0.5 +\n",
    "        trig.clone().divide_with_offset(8, 4).trig(drum::snare())\n",
    "        .filter(low_pass::default(10000.0)) \n",
    "        * 0.5;\n",
    "    (v\n",
    "         .filter(compressor().scale(8.).threshold(0.5))\n",
    "       // .filter(quantizer(0.1))\n",
    "        .filter(chorus())\n",
    "        .filter(reverb())\n",
    "    .filter(delay_s(0.25))\n",
    "     +d).filter(low_pass::default(filter_env * lfo.clone() * 20_000. ).q(res.clone()))\n",
    "});"
   ]
  },
  {
   "cell_type": "code",
   "execution_count": 8,
   "id": "5d299a50-24c3-4487-a08a-a5448a78bc6f",
   "metadata": {},
   "outputs": [],
   "source": [
    "seq.set({\n",
    "    use note::*;\n",
    "    value_sequencer(trig.clone(), [\n",
    "        (G2, 1.0f32),\n",
    "        (A2, 0.0),\n",
    "        (A2, 0.0),\n",
    "        (C2, 0.0),\n",
    "        (A2, 1.0),\n",
    "        (B3, 1.0),\n",
    "        (G2, 1.0),\n",
    "        (C3, 0.0),\n",
    "        (D2, 0.0),\n",
    "        (A3, 0.0),\n",
    "        (B3, 0.0),\n",
    "        (C4, 0.2),\n",
    "    ]) \n",
    "});"
   ]
  },
  {
   "cell_type": "code",
   "execution_count": 9,
   "id": "312ddc69-c878-4d97-aba6-d3ed2cf0bf06",
   "metadata": {},
   "outputs": [
    {
     "name": "stderr",
     "output_type": "stream",
     "text": [
      "2025-05-04 12:20:41.984 caw_midi_udp_widgets_app[49654:8794319] +[IMKClient subclass]: chose IMKClient_Modern\n",
      "2025-05-04 12:20:41.984 caw_midi_udp_widgets_app[49654:8794319] +[IMKInputSession subclass]: chose IMKInputSession_Modern\n",
      "2025-05-04 12:20:45.519 caw_midi_udp_widgets_app[49627:8794292] +[IMKClient subclass]: chose IMKClient_Modern\n",
      "2025-05-04 12:20:45.519 caw_midi_udp_widgets_app[49627:8794292] +[IMKInputSession subclass]: chose IMKInputSession_Modern\n"
     ]
    }
   ],
   "source": [
    "use caw_midi_udp_widgets_app_lib::*;\n",
    "res.set(knob(\"res\").controller(0).build() * 4.0);\n",
    "lfo.set(knob(\"lfo\").controller(1).build());"
   ]
  },
  {
   "cell_type": "code",
   "execution_count": 13,
   "id": "72ebc5f6-dc18-4b3b-a16c-b1181ec69866",
   "metadata": {},
   "outputs": [
    {
     "data": {
      "text/plain": [
       "()"
      ]
     },
     "execution_count": 13,
     "metadata": {},
     "output_type": "execute_result"
    },
    {
     "name": "stderr",
     "output_type": "stream",
     "text": [
      "\n",
      "thread 'main' panicked at src/main.rs:57:22:\n",
      "called `Result::unwrap()` on an `Err` value: Connection refused (os error 61)\n",
      "\n",
      "Stack backtrace:\n",
      "   0: std::backtrace::Backtrace::create\n",
      "   1: anyhow::error::<impl core::convert::From<E> for anyhow::Error>::from\n",
      "   2: caw_midi_udp_client::MidiUdpClient::send\n",
      "   3: caw_midi_udp_widgets_app::main\n",
      "   4: std::sys::backtrace::__rust_begin_short_backtrace\n",
      "   5: std::rt::lang_start::{{closure}}\n",
      "   6: std::rt::lang_start_internal\n",
      "   7: _main\n",
      "stack backtrace:\n",
      "   0: _rust_begin_unwind\n",
      "\n",
      "thread 'main' panicked at src/main.rs:57:22:\n",
      "called `Result::unwrap()` on an `Err` value: Connection refused (os error 61)\n",
      "\n",
      "Stack backtrace:\n",
      "   0: std::backtrace::Backtrace::create\n",
      "   1: anyhow::error::<impl core::convert::From<E> for anyhow::Error>::from\n",
      "   2: caw_midi_udp_client::MidiUdpClient::send\n",
      "   3: caw_midi_udp_widgets_app::main\n",
      "   4: std::sys::backtrace::__rust_begin_short_backtrace\n",
      "   5: std::rt::lang_start::{{closure}}\n",
      "   6: std::rt::lang_start_internal\n",
      "   7: _main\n",
      "   1: core::panicking::panic_fmt\n",
      "   2: core::result::unwrap_failed\n",
      "   3: caw_midi_udp_widgets_app::main\n",
      "note: Some details are omitted, run with `RUST_BACKTRACE=full` for a verbose backtrace.\n",
      "stack backtrace:\n",
      "   0: _rust_begin_unwind\n",
      "   1: core::panicking::panic_fmt\n",
      "   2: core::result::unwrap_failed\n",
      "   3: caw_midi_udp_widgets_app::main\n",
      "note: Some details are omitted, run with `RUST_BACKTRACE=full` for a verbose backtrace.\n"
     ]
    }
   ],
   "source": [
    "tempo_hz.set(5.)"
   ]
  },
  {
   "cell_type": "code",
   "execution_count": null,
   "id": "59b666e6-ab7b-4a6b-b2e3-a9f77d5fe81a",
   "metadata": {},
   "outputs": [],
   "source": []
  }
 ],
 "metadata": {
  "kernelspec": {
   "display_name": "Rust",
   "language": "rust",
   "name": "rust"
  },
  "language_info": {
   "codemirror_mode": "rust",
   "file_extension": ".rs",
   "mimetype": "text/rust",
   "name": "Rust",
   "pygment_lexer": "rust",
   "version": ""
  }
 },
 "nbformat": 4,
 "nbformat_minor": 5
}
